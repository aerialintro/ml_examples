{
 "cells": [
  {
   "cell_type": "markdown",
   "id": "0abb216d",
   "metadata": {},
   "source": [
    "# Transforming column in dataframe"
   ]
  },
  {
   "cell_type": "code",
   "execution_count": 1,
   "id": "61da3195",
   "metadata": {},
   "outputs": [
    {
     "name": "stdout",
     "output_type": "stream",
     "text": [
      "   A  B  C\n",
      "0  1  2  3\n",
      "1  4  5  6\n",
      "2  7  8  9\n",
      "   A  B  C  A1\n",
      "0  1  2  3   3\n",
      "1  4  5  6   6\n",
      "2  7  8  9   9\n",
      "   A  B  C  A1\n",
      "0  1  2  3   3\n",
      "1  4  5  6   6\n",
      "2  7  8  9   9\n"
     ]
    }
   ],
   "source": [
    "import pandas as pd\n",
    "import numpy as np\n",
    "\n",
    "df = pd.DataFrame([[1,2,3], [4,5,6], [7,8,9]], columns=['A','B','C'])\n",
    "print (df)\n",
    "\n",
    "def add_2(x):\n",
    "    return x+2\n",
    "\n",
    "df['A1'] = df['A'].apply(add_2)\n",
    "print (df)\n",
    "\n",
    "# or #\n",
    "\n",
    "df['A'].transform(add_2)\n",
    "print (df)"
   ]
  },
  {
   "cell_type": "markdown",
   "id": "41916f2d",
   "metadata": {},
   "source": [
    "# Transforming column in dataframe, injecting function for transformation"
   ]
  },
  {
   "cell_type": "code",
   "execution_count": 2,
   "id": "56726a0e",
   "metadata": {},
   "outputs": [
    {
     "name": "stdout",
     "output_type": "stream",
     "text": [
      "   A  B  C\n",
      "0  1  2  3\n",
      "1  4  5  6\n",
      "2  7  8  9\n",
      "   A  B  C  A1\n",
      "0  1  2  3   3\n",
      "1  4  5  6   6\n",
      "2  7  8  9   9\n"
     ]
    }
   ],
   "source": [
    "import pandas as pd\n",
    "import numpy as np\n",
    "\n",
    "df = pd.DataFrame([[1,2,3], [4,5,6], [7,8,9]], columns=['A','B','C'])\n",
    "print (df)\n",
    "\n",
    "def add_2(x):\n",
    "    return x+2\n",
    "\n",
    "def transform_df_column(df, fn_to_apply):\n",
    "    df['A1'] = df['A'].apply(fn_to_apply)\n",
    "    print (df)\n",
    "\n",
    "transform_df_column(df, add_2)"
   ]
  },
  {
   "cell_type": "markdown",
   "id": "0465eb7a",
   "metadata": {},
   "source": [
    "# Transforming column in dataframe, injecting function for transformation, handling fn that returns array"
   ]
  },
  {
   "cell_type": "code",
   "execution_count": 13,
   "id": "582709a7",
   "metadata": {},
   "outputs": [
    {
     "name": "stdout",
     "output_type": "stream",
     "text": [
      "   A  B  C\n",
      "0  1  2  3\n",
      "1  4  5  6\n",
      "2  7  8  9\n",
      "   A  B  C      A1\n",
      "0  1  2  3  [3, 2]\n",
      "1  4  5  6  [6, 5]\n",
      "2  7  8  9  [9, 8]\n"
     ]
    }
   ],
   "source": [
    "import pandas as pd\n",
    "import numpy as np\n",
    "\n",
    "df = pd.DataFrame([[1,2,3], [4,5,6], [7,8,9]], columns=['A','B','C'])\n",
    "print (df)\n",
    "\n",
    "def add_2_1(x):\n",
    "    return {\"predictions\":[[x+2, x+1]]}\n",
    "\n",
    "def transform_df_column(df, fn_to_apply):\n",
    "    df['A1'] = df['A'].apply(lambda x: fn_to_apply(x)['predictions'][0])\n",
    "    print (df)\n",
    "\n",
    "transform_df_column(df, add_2_1)"
   ]
  },
  {
   "cell_type": "code",
   "execution_count": null,
   "id": "ae152089",
   "metadata": {},
   "outputs": [],
   "source": []
  }
 ],
 "metadata": {
  "kernelspec": {
   "display_name": "Python 3 (ipykernel)",
   "language": "python",
   "name": "python3"
  },
  "language_info": {
   "codemirror_mode": {
    "name": "ipython",
    "version": 3
   },
   "file_extension": ".py",
   "mimetype": "text/x-python",
   "name": "python",
   "nbconvert_exporter": "python",
   "pygments_lexer": "ipython3",
   "version": "3.9.13"
  }
 },
 "nbformat": 4,
 "nbformat_minor": 5
}
