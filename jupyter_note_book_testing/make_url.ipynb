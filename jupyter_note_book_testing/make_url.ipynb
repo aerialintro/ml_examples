{
 "cells": [
  {
   "cell_type": "code",
   "execution_count": 1,
   "id": "99d7e442",
   "metadata": {},
   "outputs": [],
   "source": [
    "import datetime\n",
    "import dateutil\n",
    "def make_url(date):\n",
    "    \"\"\"Return the url for our API call based on date.\"\"\"\n",
    "    \n",
    "    #import pdb; pdb.set_trace()\n",
    "    #the next time you run the doctest, the execution will halt just before the return statement and the Python debugger (pdb) will start. You will get a pdb prompt directly in the notebook, which will allow you to inspect the values of a and b, step over lines, etc.\n",
    "    if isinstance(date, str):\n",
    "        date = dateutil.parser.parse(date).date()\n",
    "    elif not isinstance(date, datetime.date):\n",
    "        raise ValueError(\"must be a date\")\n",
    "    if date >= datetime.date(2020, 1, 1):\n",
    "        return f\"https://api.example.com/v2/{date.year}/{date.month}/{date.day}\"\n",
    "    else:\n",
    "        return f\"https://api.example.com/v1/{date:%Y-%m-%d}\""
   ]
  }
 ],
 "metadata": {
  "kernelspec": {
   "display_name": "Python 3 (ipykernel)",
   "language": "python",
   "name": "python3"
  },
  "language_info": {
   "codemirror_mode": {
    "name": "ipython",
    "version": 3
   },
   "file_extension": ".py",
   "mimetype": "text/x-python",
   "name": "python",
   "nbconvert_exporter": "python",
   "pygments_lexer": "ipython3",
   "version": "3.10.9"
  }
 },
 "nbformat": 4,
 "nbformat_minor": 5
}
