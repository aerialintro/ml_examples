{
 "cells": [
  {
   "cell_type": "code",
   "execution_count": 4,
   "id": "bbd3e4fb",
   "metadata": {},
   "outputs": [
    {
     "name": "stderr",
     "output_type": "stream",
     "text": [
      "test_make_url_v1 (__main__.TestUrl) ... ok\n",
      "test_make_url_v2 (__main__.TestUrl) ... ok\n",
      "\n",
      "----------------------------------------------------------------------\n",
      "Ran 2 tests in 0.005s\n",
      "\n",
      "OK\n"
     ]
    }
   ],
   "source": [
    "import unittest\n",
    "import nbimporter\n",
    "import datetime\n",
    "\n",
    "from make_url import make_url\n",
    "\n",
    "class TestUrl(unittest.TestCase):\n",
    "    def test_make_url_v2(self):\n",
    "        date = datetime.date(2020, 1, 1)\n",
    "        self.assertEqual(make_url(date), \"https://api.example.com/v2/2020/1/1\")\n",
    "        \n",
    "    def test_make_url_v1(self):\n",
    "        date = datetime.date(2019, 12, 31)\n",
    "        self.assertEqual(make_url(date), \"https://api.example.com/v1/2019-12-31\")\n",
    "        \n",
    "res = unittest.main(argv=[''], verbosity=3, exit=False)\n",
    "# if we want our notebook to stop processing due to failures, we need a cell itself to fail, if in notebook\n",
    "assert len(res.result.failures) == 0"
   ]
  },
  {
   "cell_type": "code",
   "execution_count": 12,
   "id": "42c4421d",
   "metadata": {},
   "outputs": [
    {
     "name": "stdout",
     "output_type": "stream",
     "text": [
      "PASS\n"
     ]
    }
   ],
   "source": [
    "import unittest\n",
    "import nbimporter\n",
    "import datetime\n",
    "\n",
    "from make_url import make_url\n",
    "\n",
    "class TestUrl(unittest.TestCase):\n",
    "    def test_make_url_v2(self):\n",
    "        date = datetime.date(2020, 1, 1)\n",
    "        self.assertEqual(make_url(date), \"https://api.example.com/v2/2020/1/1\")\n",
    "        \n",
    "    def test(self, func):\n",
    "        date = datetime.date(2019, 12, 31)\n",
    "        self.assertEqual(func(date), \"https://api.example.com/v1/2019-12-31\")\n",
    "        print(\"PASS\")\n",
    "        \n",
    "t = TestUrl()\n",
    "t.test(make_url) # not sure about this as it will throw error if passed, but is silent if it executes successfull so need to have some kind of message to show it's successful"
   ]
  },
  {
   "cell_type": "code",
   "execution_count": 16,
   "id": "b1480ab4",
   "metadata": {},
   "outputs": [],
   "source": [
    "import unittest\n",
    "import nbimporter\n",
    "import datetime\n",
    "\n",
    "from make_url import make_url\n",
    "\n",
    "class TestUrl2(unittest.TestCase):\n",
    "    def test_make_url_v22(self):\n",
    "        date = datetime.date(2020, 1, 1)\n",
    "        self.assertEqual(make_url(date), \"https://api.example.com/v2/2020/1/1\")\n",
    "        \n",
    "    def test_make_url_v12(self):\n",
    "        date = datetime.date(2019, 12, 31)\n",
    "        self.assertEqual(make_url(date), \"https://api.example.com/v1/2019-12-31\")\n",
    "        \n",
    "class TestUrl3(unittest.TestCase):\n",
    "    def test_make_url_v23(self):\n",
    "        date = datetime.date(2020, 1, 1)\n",
    "        self.assertEqual(make_url(date), \"https://api.example.com/v2/2020/1/1\")\n",
    "        \n",
    "    def test_make_url_v13(self):\n",
    "        date = datetime.date(2019, 12, 31)\n",
    "        self.assertEqual(make_url(date), \"https://api.example.com/v1/2019-12-31\")        \n",
    "        \n",
    "class TestUrl4(unittest.TestCase):\n",
    "    def test_make_url_v24(self):\n",
    "        date = datetime.date(2020, 1, 1)\n",
    "        self.assertEqual(make_url(date), \"https://api.example.com/v2/2020/1/1\")\n",
    "        \n",
    "    def test_make_url_v14(self):\n",
    "        date = datetime.date(2019, 12, 31)\n",
    "        self.assertEqual(make_url(date), \"https://api.example.com/v1/2019-12-31\")               "
   ]
  },
  {
   "cell_type": "code",
   "execution_count": 18,
   "id": "a7670875",
   "metadata": {},
   "outputs": [
    {
     "name": "stderr",
     "output_type": "stream",
     "text": [
      "test_make_url_v12 (__main__.TestUrl2) ... ok\n",
      "test_make_url_v22 (__main__.TestUrl2) ... ok\n",
      "\n",
      "----------------------------------------------------------------------\n",
      "Ran 2 tests in 0.004s\n",
      "\n",
      "OK\n"
     ]
    },
    {
     "data": {
      "text/plain": [
       "<unittest.runner.TextTestResult run=2 errors=0 failures=0>"
      ]
     },
     "execution_count": 18,
     "metadata": {},
     "output_type": "execute_result"
    }
   ],
   "source": [
    "import unittest\n",
    "suite = unittest.TestLoader().loadTestsFromTestCase(TestUrl2)\n",
    "runner = unittest.TextTestRunner(verbosity=2)\n",
    "runner.run(suite)"
   ]
  },
  {
   "cell_type": "code",
   "execution_count": null,
   "id": "8863d8d6",
   "metadata": {},
   "outputs": [],
   "source": []
  }
 ],
 "metadata": {
  "kernelspec": {
   "display_name": "Python 3 (ipykernel)",
   "language": "python",
   "name": "python3"
  },
  "language_info": {
   "codemirror_mode": {
    "name": "ipython",
    "version": 3
   },
   "file_extension": ".py",
   "mimetype": "text/x-python",
   "name": "python",
   "nbconvert_exporter": "python",
   "pygments_lexer": "ipython3",
   "version": "3.10.9"
  }
 },
 "nbformat": 4,
 "nbformat_minor": 5
}
